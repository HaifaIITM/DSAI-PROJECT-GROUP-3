{
  "nbformat": 4,
  "nbformat_minor": 0,
  "metadata": {
    "colab": {
      "provenance": []
    },
    "kernelspec": {
      "name": "python3",
      "display_name": "Python 3"
    },
    "language_info": {
      "name": "python"
    }
  },
  "cells": [
    {
      "cell_type": "code",
      "metadata": {
        "colab": {
          "base_uri": "https://localhost:8080/"
        },
        "id": "018ad6ed",
        "outputId": "1cd295bd-b9e7-46a4-8c13-f38d4df10bde"
      },
      "source": [
        "!pip install sentence-transformers vaderSentiment spacy scikit-learn pandas numpy\n",
        "!python -m spacy download en_core_web_sm"
      ],
      "execution_count": 11,
      "outputs": [
        {
          "output_type": "stream",
          "name": "stdout",
          "text": [
            "Requirement already satisfied: sentence-transformers in /usr/local/lib/python3.12/dist-packages (5.1.2)\n",
            "Requirement already satisfied: vaderSentiment in /usr/local/lib/python3.12/dist-packages (3.3.2)\n",
            "Requirement already satisfied: spacy in /usr/local/lib/python3.12/dist-packages (3.8.7)\n",
            "Requirement already satisfied: scikit-learn in /usr/local/lib/python3.12/dist-packages (1.6.1)\n",
            "Requirement already satisfied: pandas in /usr/local/lib/python3.12/dist-packages (2.2.2)\n",
            "Requirement already satisfied: numpy in /usr/local/lib/python3.12/dist-packages (2.0.2)\n",
            "Requirement already satisfied: transformers<5.0.0,>=4.41.0 in /usr/local/lib/python3.12/dist-packages (from sentence-transformers) (4.57.1)\n",
            "Requirement already satisfied: tqdm in /usr/local/lib/python3.12/dist-packages (from sentence-transformers) (4.67.1)\n",
            "Requirement already satisfied: torch>=1.11.0 in /usr/local/lib/python3.12/dist-packages (from sentence-transformers) (2.8.0+cu126)\n",
            "Requirement already satisfied: scipy in /usr/local/lib/python3.12/dist-packages (from sentence-transformers) (1.16.3)\n",
            "Requirement already satisfied: huggingface-hub>=0.20.0 in /usr/local/lib/python3.12/dist-packages (from sentence-transformers) (0.36.0)\n",
            "Requirement already satisfied: Pillow in /usr/local/lib/python3.12/dist-packages (from sentence-transformers) (11.3.0)\n",
            "Requirement already satisfied: typing_extensions>=4.5.0 in /usr/local/lib/python3.12/dist-packages (from sentence-transformers) (4.15.0)\n",
            "Requirement already satisfied: requests in /usr/local/lib/python3.12/dist-packages (from vaderSentiment) (2.32.4)\n",
            "Requirement already satisfied: spacy-legacy<3.1.0,>=3.0.11 in /usr/local/lib/python3.12/dist-packages (from spacy) (3.0.12)\n",
            "Requirement already satisfied: spacy-loggers<2.0.0,>=1.0.0 in /usr/local/lib/python3.12/dist-packages (from spacy) (1.0.5)\n",
            "Requirement already satisfied: murmurhash<1.1.0,>=0.28.0 in /usr/local/lib/python3.12/dist-packages (from spacy) (1.0.13)\n",
            "Requirement already satisfied: cymem<2.1.0,>=2.0.2 in /usr/local/lib/python3.12/dist-packages (from spacy) (2.0.11)\n",
            "Requirement already satisfied: preshed<3.1.0,>=3.0.2 in /usr/local/lib/python3.12/dist-packages (from spacy) (3.0.10)\n",
            "Requirement already satisfied: thinc<8.4.0,>=8.3.4 in /usr/local/lib/python3.12/dist-packages (from spacy) (8.3.6)\n",
            "Requirement already satisfied: wasabi<1.2.0,>=0.9.1 in /usr/local/lib/python3.12/dist-packages (from spacy) (1.1.3)\n",
            "Requirement already satisfied: srsly<3.0.0,>=2.4.3 in /usr/local/lib/python3.12/dist-packages (from spacy) (2.5.1)\n",
            "Requirement already satisfied: catalogue<2.1.0,>=2.0.6 in /usr/local/lib/python3.12/dist-packages (from spacy) (2.0.10)\n",
            "Requirement already satisfied: weasel<0.5.0,>=0.1.0 in /usr/local/lib/python3.12/dist-packages (from spacy) (0.4.1)\n",
            "Requirement already satisfied: typer<1.0.0,>=0.3.0 in /usr/local/lib/python3.12/dist-packages (from spacy) (0.20.0)\n",
            "Requirement already satisfied: pydantic!=1.8,!=1.8.1,<3.0.0,>=1.7.4 in /usr/local/lib/python3.12/dist-packages (from spacy) (2.11.10)\n",
            "Requirement already satisfied: jinja2 in /usr/local/lib/python3.12/dist-packages (from spacy) (3.1.6)\n",
            "Requirement already satisfied: setuptools in /usr/local/lib/python3.12/dist-packages (from spacy) (75.2.0)\n",
            "Requirement already satisfied: packaging>=20.0 in /usr/local/lib/python3.12/dist-packages (from spacy) (25.0)\n",
            "Requirement already satisfied: langcodes<4.0.0,>=3.2.0 in /usr/local/lib/python3.12/dist-packages (from spacy) (3.5.0)\n",
            "Requirement already satisfied: joblib>=1.2.0 in /usr/local/lib/python3.12/dist-packages (from scikit-learn) (1.5.2)\n",
            "Requirement already satisfied: threadpoolctl>=3.1.0 in /usr/local/lib/python3.12/dist-packages (from scikit-learn) (3.6.0)\n",
            "Requirement already satisfied: python-dateutil>=2.8.2 in /usr/local/lib/python3.12/dist-packages (from pandas) (2.9.0.post0)\n",
            "Requirement already satisfied: pytz>=2020.1 in /usr/local/lib/python3.12/dist-packages (from pandas) (2025.2)\n",
            "Requirement already satisfied: tzdata>=2022.7 in /usr/local/lib/python3.12/dist-packages (from pandas) (2025.2)\n",
            "Requirement already satisfied: filelock in /usr/local/lib/python3.12/dist-packages (from huggingface-hub>=0.20.0->sentence-transformers) (3.20.0)\n",
            "Requirement already satisfied: fsspec>=2023.5.0 in /usr/local/lib/python3.12/dist-packages (from huggingface-hub>=0.20.0->sentence-transformers) (2025.3.0)\n",
            "Requirement already satisfied: pyyaml>=5.1 in /usr/local/lib/python3.12/dist-packages (from huggingface-hub>=0.20.0->sentence-transformers) (6.0.3)\n",
            "Requirement already satisfied: hf-xet<2.0.0,>=1.1.3 in /usr/local/lib/python3.12/dist-packages (from huggingface-hub>=0.20.0->sentence-transformers) (1.2.0)\n",
            "Requirement already satisfied: language-data>=1.2 in /usr/local/lib/python3.12/dist-packages (from langcodes<4.0.0,>=3.2.0->spacy) (1.3.0)\n",
            "Requirement already satisfied: annotated-types>=0.6.0 in /usr/local/lib/python3.12/dist-packages (from pydantic!=1.8,!=1.8.1,<3.0.0,>=1.7.4->spacy) (0.7.0)\n",
            "Requirement already satisfied: pydantic-core==2.33.2 in /usr/local/lib/python3.12/dist-packages (from pydantic!=1.8,!=1.8.1,<3.0.0,>=1.7.4->spacy) (2.33.2)\n",
            "Requirement already satisfied: typing-inspection>=0.4.0 in /usr/local/lib/python3.12/dist-packages (from pydantic!=1.8,!=1.8.1,<3.0.0,>=1.7.4->spacy) (0.4.2)\n",
            "Requirement already satisfied: six>=1.5 in /usr/local/lib/python3.12/dist-packages (from python-dateutil>=2.8.2->pandas) (1.17.0)\n",
            "Requirement already satisfied: charset_normalizer<4,>=2 in /usr/local/lib/python3.12/dist-packages (from requests->vaderSentiment) (3.4.4)\n",
            "Requirement already satisfied: idna<4,>=2.5 in /usr/local/lib/python3.12/dist-packages (from requests->vaderSentiment) (3.11)\n",
            "Requirement already satisfied: urllib3<3,>=1.21.1 in /usr/local/lib/python3.12/dist-packages (from requests->vaderSentiment) (2.5.0)\n",
            "Requirement already satisfied: certifi>=2017.4.17 in /usr/local/lib/python3.12/dist-packages (from requests->vaderSentiment) (2025.10.5)\n",
            "Requirement already satisfied: blis<1.4.0,>=1.3.0 in /usr/local/lib/python3.12/dist-packages (from thinc<8.4.0,>=8.3.4->spacy) (1.3.0)\n",
            "Requirement already satisfied: confection<1.0.0,>=0.0.1 in /usr/local/lib/python3.12/dist-packages (from thinc<8.4.0,>=8.3.4->spacy) (0.1.5)\n",
            "Requirement already satisfied: sympy>=1.13.3 in /usr/local/lib/python3.12/dist-packages (from torch>=1.11.0->sentence-transformers) (1.13.3)\n",
            "Requirement already satisfied: networkx in /usr/local/lib/python3.12/dist-packages (from torch>=1.11.0->sentence-transformers) (3.5)\n",
            "Requirement already satisfied: nvidia-cuda-nvrtc-cu12==12.6.77 in /usr/local/lib/python3.12/dist-packages (from torch>=1.11.0->sentence-transformers) (12.6.77)\n",
            "Requirement already satisfied: nvidia-cuda-runtime-cu12==12.6.77 in /usr/local/lib/python3.12/dist-packages (from torch>=1.11.0->sentence-transformers) (12.6.77)\n",
            "Requirement already satisfied: nvidia-cuda-cupti-cu12==12.6.80 in /usr/local/lib/python3.12/dist-packages (from torch>=1.11.0->sentence-transformers) (12.6.80)\n",
            "Requirement already satisfied: nvidia-cudnn-cu12==9.10.2.21 in /usr/local/lib/python3.12/dist-packages (from torch>=1.11.0->sentence-transformers) (9.10.2.21)\n",
            "Requirement already satisfied: nvidia-cublas-cu12==12.6.4.1 in /usr/local/lib/python3.12/dist-packages (from torch>=1.11.0->sentence-transformers) (12.6.4.1)\n",
            "Requirement already satisfied: nvidia-cufft-cu12==11.3.0.4 in /usr/local/lib/python3.12/dist-packages (from torch>=1.11.0->sentence-transformers) (11.3.0.4)\n",
            "Requirement already satisfied: nvidia-curand-cu12==10.3.7.77 in /usr/local/lib/python3.12/dist-packages (from torch>=1.11.0->sentence-transformers) (10.3.7.77)\n",
            "Requirement already satisfied: nvidia-cusolver-cu12==11.7.1.2 in /usr/local/lib/python3.12/dist-packages (from torch>=1.11.0->sentence-transformers) (11.7.1.2)\n",
            "Requirement already satisfied: nvidia-cusparse-cu12==12.5.4.2 in /usr/local/lib/python3.12/dist-packages (from torch>=1.11.0->sentence-transformers) (12.5.4.2)\n",
            "Requirement already satisfied: nvidia-cusparselt-cu12==0.7.1 in /usr/local/lib/python3.12/dist-packages (from torch>=1.11.0->sentence-transformers) (0.7.1)\n",
            "Requirement already satisfied: nvidia-nccl-cu12==2.27.3 in /usr/local/lib/python3.12/dist-packages (from torch>=1.11.0->sentence-transformers) (2.27.3)\n",
            "Requirement already satisfied: nvidia-nvtx-cu12==12.6.77 in /usr/local/lib/python3.12/dist-packages (from torch>=1.11.0->sentence-transformers) (12.6.77)\n",
            "Requirement already satisfied: nvidia-nvjitlink-cu12==12.6.85 in /usr/local/lib/python3.12/dist-packages (from torch>=1.11.0->sentence-transformers) (12.6.85)\n",
            "Requirement already satisfied: nvidia-cufile-cu12==1.11.1.6 in /usr/local/lib/python3.12/dist-packages (from torch>=1.11.0->sentence-transformers) (1.11.1.6)\n",
            "Requirement already satisfied: triton==3.4.0 in /usr/local/lib/python3.12/dist-packages (from torch>=1.11.0->sentence-transformers) (3.4.0)\n",
            "Requirement already satisfied: regex!=2019.12.17 in /usr/local/lib/python3.12/dist-packages (from transformers<5.0.0,>=4.41.0->sentence-transformers) (2024.11.6)\n",
            "Requirement already satisfied: tokenizers<=0.23.0,>=0.22.0 in /usr/local/lib/python3.12/dist-packages (from transformers<5.0.0,>=4.41.0->sentence-transformers) (0.22.1)\n",
            "Requirement already satisfied: safetensors>=0.4.3 in /usr/local/lib/python3.12/dist-packages (from transformers<5.0.0,>=4.41.0->sentence-transformers) (0.6.2)\n",
            "Requirement already satisfied: click>=8.0.0 in /usr/local/lib/python3.12/dist-packages (from typer<1.0.0,>=0.3.0->spacy) (8.3.0)\n",
            "Requirement already satisfied: shellingham>=1.3.0 in /usr/local/lib/python3.12/dist-packages (from typer<1.0.0,>=0.3.0->spacy) (1.5.4)\n",
            "Requirement already satisfied: rich>=10.11.0 in /usr/local/lib/python3.12/dist-packages (from typer<1.0.0,>=0.3.0->spacy) (13.9.4)\n",
            "Requirement already satisfied: cloudpathlib<1.0.0,>=0.7.0 in /usr/local/lib/python3.12/dist-packages (from weasel<0.5.0,>=0.1.0->spacy) (0.23.0)\n",
            "Requirement already satisfied: smart-open<8.0.0,>=5.2.1 in /usr/local/lib/python3.12/dist-packages (from weasel<0.5.0,>=0.1.0->spacy) (7.4.1)\n",
            "Requirement already satisfied: MarkupSafe>=2.0 in /usr/local/lib/python3.12/dist-packages (from jinja2->spacy) (3.0.3)\n",
            "Requirement already satisfied: marisa-trie>=1.1.0 in /usr/local/lib/python3.12/dist-packages (from language-data>=1.2->langcodes<4.0.0,>=3.2.0->spacy) (1.3.1)\n",
            "Requirement already satisfied: markdown-it-py>=2.2.0 in /usr/local/lib/python3.12/dist-packages (from rich>=10.11.0->typer<1.0.0,>=0.3.0->spacy) (4.0.0)\n",
            "Requirement already satisfied: pygments<3.0.0,>=2.13.0 in /usr/local/lib/python3.12/dist-packages (from rich>=10.11.0->typer<1.0.0,>=0.3.0->spacy) (2.19.2)\n",
            "Requirement already satisfied: wrapt in /usr/local/lib/python3.12/dist-packages (from smart-open<8.0.0,>=5.2.1->weasel<0.5.0,>=0.1.0->spacy) (2.0.0)\n",
            "Requirement already satisfied: mpmath<1.4,>=1.1.0 in /usr/local/lib/python3.12/dist-packages (from sympy>=1.13.3->torch>=1.11.0->sentence-transformers) (1.3.0)\n",
            "Requirement already satisfied: mdurl~=0.1 in /usr/local/lib/python3.12/dist-packages (from markdown-it-py>=2.2.0->rich>=10.11.0->typer<1.0.0,>=0.3.0->spacy) (0.1.2)\n",
            "Collecting en-core-web-sm==3.8.0\n",
            "  Downloading https://github.com/explosion/spacy-models/releases/download/en_core_web_sm-3.8.0/en_core_web_sm-3.8.0-py3-none-any.whl (12.8 MB)\n",
            "\u001b[2K     \u001b[90m━━━━━━━━━━━━━━━━━━━━━━━━━━━━━━━━━━━━━━━━\u001b[0m \u001b[32m12.8/12.8 MB\u001b[0m \u001b[31m47.7 MB/s\u001b[0m eta \u001b[36m0:00:00\u001b[0m\n",
            "\u001b[?25h\u001b[38;5;2m✔ Download and installation successful\u001b[0m\n",
            "You can now load the package via spacy.load('en_core_web_sm')\n",
            "\u001b[38;5;3m⚠ Restart to reload dependencies\u001b[0m\n",
            "If you are in a Jupyter or Colab notebook, you may need to restart Python in\n",
            "order to load all the package's dependencies. You can do this by selecting the\n",
            "'Restart kernel' or 'Restart runtime' option.\n"
          ]
        }
      ]
    },
    {
      "cell_type": "code",
      "source": [
        "# ===============================================\n",
        "# 🧠 Headline NLP Feature & Risk Index Pipeline\n",
        "# ===============================================\n",
        "\n",
        "import yfinance as yf\n",
        "import pandas as pd\n",
        "import numpy as np\n",
        "import re, time\n",
        "from datetime import datetime, timedelta, timezone # Import timezone\n",
        "\n",
        "from vaderSentiment.vaderSentiment import SentimentIntensityAnalyzer\n",
        "from sentence_transformers import SentenceTransformer\n",
        "import spacy\n",
        "from sklearn.preprocessing import StandardScaler\n",
        "from sklearn.decomposition import PCA"
      ],
      "metadata": {
        "id": "HPHaOmGOhXAU"
      },
      "execution_count": null,
      "outputs": []
    },
    {
      "cell_type": "code",
      "source": [
        "# ------------------------------------------------\n",
        "# 1. FETCH FRESH HEADLINES\n",
        "# ------------------------------------------------\n",
        "def fetch_headlines(ticker=\"SPY\", lookback_days=7):\n",
        "    \"\"\"\n",
        "    Fetch latest news headlines using yfinance.\n",
        "    Returns DataFrame with ['title','publisher','providerPublishTime']\n",
        "    \"\"\"\n",
        "    tk = yf.Ticker(ticker)\n",
        "    news = tk.news\n",
        "    df = pd.DataFrame(news)\n",
        "    # Extract timestamp, title and publisher from the 'content' column\n",
        "    df['date'] = pd.to_datetime(df['content'].apply(lambda x: x.get('pubDate')), errors='coerce') # Use pubDate and handle errors\n",
        "    df['title'] = df['content'].apply(lambda x: x.get('title'))\n",
        "    df['publisher'] = df['content'].apply(lambda x: x.get('provider', {}).get('displayName')) # Access displayName within provider\n",
        "\n",
        "    cutoff = datetime.now(timezone.utc) - timedelta(days=lookback_days) # Make cutoff timezone-aware (UTC)\n",
        "    df = df.dropna(subset=['date', 'title', 'publisher']) # Drop rows with missing values after extraction\n",
        "    df = df[df['date'] >= cutoff]\n",
        "    return df.sort_values('date', ascending=True).reset_index(drop=True)"
      ],
      "metadata": {
        "id": "9QjyxlwbhZUT"
      },
      "execution_count": null,
      "outputs": []
    },
    {
      "cell_type": "code",
      "source": [
        "# ------------------------------------------------\n",
        "# 2. DEFINE NLP MODELS & LEXICONS\n",
        "# ------------------------------------------------\n",
        "vader = SentimentIntensityAnalyzer()\n",
        "model = SentenceTransformer('all-MiniLM-L6-v2')\n",
        "nlp = spacy.load('en_core_web_sm', disable=['parser', 'ner'])\n",
        "\n",
        "UNCERTAINTY = {\"may\",\"might\",\"could\",\"possibly\",\"unclear\",\"uncertain\",\"likely\",\"unlikely\",\"suggests\"}\n",
        "EVENT_KEYWORDS = {\"bankrupt\",\"bankruptcy\",\"fraud\",\"recall\",\"downgrade\",\"layoff\",\"miss\",\n",
        "                  \"investigation\",\"acquisition\",\"lawsuit\",\"fine\",\"default\",\"selloff\",\"sanction\"}\n",
        "\n",
        "# ------------------------------------------------\n",
        "# 3. FEATURE EXTRACTION FOR EACH HEADLINE\n",
        "# ------------------------------------------------\n",
        "def extract_features(df, rolling_mean_emb=None):\n",
        "    feats = []\n",
        "    for _, row in df.iterrows():\n",
        "        text = row['title']\n",
        "        tokens = [t.text.lower() for t in nlp(text)]\n",
        "        sent = vader.polarity_scores(text)['compound']\n",
        "        neg_intensity = max(0, -sent)\n",
        "        uncertainty = sum(1 for w in tokens if w in UNCERTAINTY) / max(1, len(tokens))\n",
        "        event_intensity = sum(1 for w in tokens if w in EVENT_KEYWORDS) / max(1, len(tokens))\n",
        "        ent_count = len(tokens)\n",
        "        emb = model.encode(text, normalize_embeddings=True)\n",
        "        novelty = 0\n",
        "        if rolling_mean_emb is not None:\n",
        "            novelty = 1 - np.dot(emb, rolling_mean_emb)\n",
        "        feats.append({\n",
        "            'date': row['date'],\n",
        "            'title': text,\n",
        "            'sentiment': sent,\n",
        "            'neg_intensity': neg_intensity,\n",
        "            'uncertainty': uncertainty,\n",
        "            'event_intensity': event_intensity,\n",
        "            'novelty': novelty,\n",
        "            'embedding': emb\n",
        "        })\n",
        "    return pd.DataFrame(feats)"
      ],
      "metadata": {
        "id": "2_Wha2cWhfs3"
      },
      "execution_count": null,
      "outputs": []
    },
    {
      "cell_type": "code",
      "source": [
        "# ------------------------------------------------\n",
        "# 4. AGGREGATE DAILY FEATURES INTO RISK INDEX\n",
        "# ------------------------------------------------\n",
        "def aggregate_daily_features(df_feats):\n",
        "    daily = []\n",
        "    for date, group in df_feats.groupby(df_feats['date'].dt.date):\n",
        "        n = len(group)\n",
        "        S_mean = np.mean(group['sentiment'])\n",
        "        Neg_mean = np.mean(group['neg_intensity'])\n",
        "        U_mean = np.mean(group['uncertainty'])\n",
        "        E_mean = np.mean(group['event_intensity'])\n",
        "        N_mean = np.mean(group['novelty'])\n",
        "        Disp = np.std(group['sentiment'])\n",
        "        daily.append({\n",
        "            'date': date,\n",
        "            'V': n,\n",
        "            'S_mean': S_mean,\n",
        "            'Neg_mean': Neg_mean,\n",
        "            'U_mean': U_mean,\n",
        "            'E_mean': E_mean,\n",
        "            'N_mean': N_mean,\n",
        "            'Disp': Disp\n",
        "        })\n",
        "    daily_df = pd.DataFrame(daily).sort_values('date')\n",
        "    # Normalize and compute composite Risk Index\n",
        "    scaler = StandardScaler()\n",
        "    Z = scaler.fit_transform(daily_df[['Neg_mean','E_mean','N_mean','Disp','V']])\n",
        "    daily_df['Risk_z'] = Z.sum(axis=1)\n",
        "    # Optional PCA-based index\n",
        "    pca = PCA(n_components=1)\n",
        "    daily_df['Risk_pca'] = pca.fit_transform(Z)\n",
        "    return daily_df\n",
        "\n",
        "# ------------------------------------------------\n",
        "# 5. RUN PIPELINE\n",
        "# ------------------------------------------------\n",
        "def run_pipeline(ticker=\"SPY\", lookback_days=14):\n",
        "    headlines = fetch_headlines(ticker, lookback_days)\n",
        "    if headlines.empty:\n",
        "        raise ValueError(\"No headlines found for given ticker/period.\")\n",
        "    print(f\"Fetched {len(headlines)} headlines for {ticker}\")\n",
        "    feats = extract_features(headlines)\n",
        "    daily_df = aggregate_daily_features(feats)\n",
        "    return daily_df, feats"
      ],
      "metadata": {
        "id": "k6naujvN68MQ"
      },
      "execution_count": 40,
      "outputs": []
    },
    {
      "cell_type": "code",
      "metadata": {
        "colab": {
          "base_uri": "https://localhost:8080/"
        },
        "id": "3b6cbcf3",
        "outputId": "4ee41b2d-b987-4071-8de5-371eb27bf711"
      },
      "source": [
        "# ------------------------------------------------\n",
        "# 6. EXAMPLE USAGE\n",
        "# ------------------------------------------------\n",
        "\n",
        "daily_df, feats = run_pipeline(\"SPY\", lookback_days=30) # Increased lookback_days\n",
        "print(daily_df.tail())"
      ],
      "execution_count": 41,
      "outputs": [
        {
          "output_type": "stream",
          "name": "stdout",
          "text": [
            "Fetched 10 headlines for SPY\n",
            "         date  V    S_mean  Neg_mean  U_mean  E_mean  N_mean      Disp  \\\n",
            "0  2025-10-27  2  0.010900  0.159100     0.0     0.0     0.0  0.329100   \n",
            "1  2025-10-28  2 -0.096300  0.096300     0.0     0.0     0.0  0.096300   \n",
            "2  2025-10-29  3  0.509000  0.000000     0.0     0.0     0.0  0.137501   \n",
            "3  2025-10-30  3 -0.268867  0.268867     0.0     0.0     0.0  0.209333   \n",
            "\n",
            "     Risk_z  Risk_pca  \n",
            "0  0.826855  1.549711  \n",
            "1 -2.451146 -0.750980  \n",
            "2 -0.970714 -1.581689  \n",
            "3  2.595004  0.782959  \n"
          ]
        }
      ]
    }
  ]
}