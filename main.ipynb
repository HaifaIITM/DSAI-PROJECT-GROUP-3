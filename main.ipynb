{
 "cells": [
  {
   "cell_type": "code",
   "execution_count": 1,
   "id": "904caf10",
   "metadata": {
    "vscode": {
     "languageId": "plaintext"
    }
   },
   "outputs": [],
   "source": [
    "import sys, os\n",
    "sys.path.append(os.getcwd())  # so we can import src/* and config/*\n"
   ]
  },
  {
   "cell_type": "code",
   "execution_count": 2,
   "id": "9b7f394d",
   "metadata": {
    "vscode": {
     "languageId": "plaintext"
    }
   },
   "outputs": [],
   "source": [
    "from config import settings\n",
    "from src.pipeline import run_download, run_process, run_build_splits, run_materialize_folds, run_baseline\n",
    "from src.viz.plots import (\n",
    "    collect_metrics, plot_metric_bars, plot_cum_pnl,\n",
    "    plot_pred_vs_true, plot_residual_hist, plot_lastN_ts,\n",
    "    results_to_df\n",
    ")"
   ]
  },
  {
   "cell_type": "code",
   "execution_count": 3,
   "id": "a51367e2",
   "metadata": {
    "vscode": {
     "languageId": "plaintext"
    }
   },
   "outputs": [
    {
     "name": "stdout",
     "output_type": "stream",
     "text": [
      "Downloaded datasets:\n",
      " -    ^GSPC |  5049 rows | 2005-09-21 → 2025-10-15 | data/raw/GSPC_2005-09-21_to_2025-10-16_1d.csv\n",
      " -      SPY |  5049 rows | 2005-09-21 → 2025-10-15 | data/raw/SPY_2005-09-21_to_2025-10-16_1d.csv\n",
      " -  BTC-USD |  4047 rows | 2014-09-17 → 2025-10-15 | data/raw/BTC-USD_2005-09-21_to_2025-10-16_1d.csv\n",
      " -  ETH-USD |  2898 rows | 2017-11-09 → 2025-10-15 | data/raw/ETH-USD_2005-09-21_to_2025-10-16_1d.csv\n",
      " -    ^NSEI |  4435 rows | 2007-09-17 → 2025-10-15 | data/raw/NSEI_2005-09-21_to_2025-10-16_1d.csv\n",
      " - ^NSEBANK |  4160 rows | 2007-09-17 → 2025-10-15 | data/raw/NSEBANK_2005-09-21_to_2025-10-16_1d.csv\n",
      " - RELIANCE.NS |  4950 rows | 2005-09-21 → 2025-10-15 | data/raw/RELIANCE.NS_2005-09-21_to_2025-10-16_1d.csv\n",
      " -   TCS.NS |  4950 rows | 2005-09-21 → 2025-10-15 | data/raw/TCS.NS_2005-09-21_to_2025-10-16_1d.csv\n",
      " - EURUSD=X |  5205 rows | 2005-09-22 → 2025-10-15 | data/raw/EURUSD=X_2005-09-21_to_2025-10-16_1d.csv\n",
      " - USDINR=X |  5203 rows | 2005-09-22 → 2025-10-15 | data/raw/USDINR=X_2005-09-21_to_2025-10-16_1d.csv\n",
      " -     GC=F |  5047 rows | 2005-09-21 → 2025-10-15 | data/raw/GC=F_2005-09-21_to_2025-10-16_1d.csv\n",
      " -     CL=F |  5048 rows | 2005-09-21 → 2025-10-15 | data/raw/CL=F_2005-09-21_to_2025-10-16_1d.csv\n",
      " -     ^VIX |  5049 rows | 2005-09-21 → 2025-10-15 | data/raw/VIX_2005-09-21_to_2025-10-16_1d.csv\n"
     ]
    }
   ],
   "source": [
    "res = run_download()\n",
    "print(\"Downloaded datasets:\")\n",
    "for r in res:\n",
    "    print(f\" - {r['symbol']:>8} | {r['rows']:>5} rows | {r['start']} → {r['end']} | {r['path']}\")"
   ]
  },
  {
   "cell_type": "code",
   "execution_count": 3,
   "id": "ae1d1611",
   "metadata": {
    "vscode": {
     "languageId": "plaintext"
    }
   },
   "outputs": [
    {
     "name": "stderr",
     "output_type": "stream",
     "text": [
      "/Users/pep/Desktop/esn-finance/src/data/loader.py:15: UserWarning: Could not infer format, so each element will be parsed individually, falling back to `dateutil`. To ensure parsing is consistent and as-expected, please specify a format.\n",
      "  df.index = pd.to_datetime(df.index, errors=\"coerce\")\n",
      "/Users/pep/Desktop/esn-finance/src/data/loader.py:15: UserWarning: Could not infer format, so each element will be parsed individually, falling back to `dateutil`. To ensure parsing is consistent and as-expected, please specify a format.\n",
      "  df.index = pd.to_datetime(df.index, errors=\"coerce\")\n"
     ]
    },
    {
     "data": {
      "text/plain": [
       "{'GSPC': 'data/processed/GSPC_features.csv',\n",
       " 'SPY': 'data/processed/SPY_features.csv'}"
      ]
     },
     "execution_count": 3,
     "metadata": {},
     "output_type": "execute_result"
    }
   ],
   "source": [
    "proc_paths = run_process()\n",
    "proc_paths"
   ]
  },
  {
   "cell_type": "code",
   "execution_count": 4,
   "id": "af0bb262",
   "metadata": {
    "vscode": {
     "languageId": "plaintext"
    }
   },
   "outputs": [
    {
     "name": "stdout",
     "output_type": "stream",
     "text": [
      "Built 9 folds. Example fold[0]: {'train': {'start': '2005-12-14', 'end': '2015-12-18'}, 'test': {'start': '2015-12-21', 'end': '2016-12-19'}, 'details': {'train_days': 2520, 'test_days': 252}}\n"
     ]
    }
   ],
   "source": [
    "folds = run_build_splits(proc_paths)\n",
    "print(f\"Built {len(folds)} folds. Example fold[0]: {folds[0] if folds else '—'}\")"
   ]
  },
  {
   "cell_type": "code",
   "execution_count": 5,
   "id": "76445c3d",
   "metadata": {
    "vscode": {
     "languageId": "plaintext"
    }
   },
   "outputs": [
    {
     "name": "stdout",
     "output_type": "stream",
     "text": [
      "Materialized folds in: data/splits\n"
     ]
    }
   ],
   "source": [
    "run_materialize_folds(proc_paths, folds)\n",
    "print(\"Materialized folds in:\", settings.SPLIT_DIR)"
   ]
  },
  {
   "cell_type": "markdown",
   "id": "f4542f87-3d96-4b76-ae99-2d4989aab5fc",
   "metadata": {},
   "source": [
    "### Main model"
   ]
  },
  {
   "cell_type": "code",
   "execution_count": 6,
   "id": "5ef7b842-9b71-4fea-97fa-35ae73f75605",
   "metadata": {},
   "outputs": [],
   "source": [
    "result_esn = run_baseline(model_name=\"esn\", fold_id=0, horizon=\"target_h1\")"
   ]
  },
  {
   "cell_type": "markdown",
   "id": "77763c76-35f6-4ebc-97a8-2e848945fe3b",
   "metadata": {},
   "source": [
    "### Baselines"
   ]
  },
  {
   "cell_type": "code",
   "execution_count": 7,
   "id": "f0521157",
   "metadata": {
    "vscode": {
     "languageId": "plaintext"
    }
   },
   "outputs": [
    {
     "name": "stderr",
     "output_type": "stream",
     "text": [
      "/Users/pep/Desktop/esn-finance/src/models/lstm.py:99: UserWarning: The given NumPy array is not writable, and PyTorch does not support non-writable tensors. This means writing to this tensor will result in undefined behavior. You may want to copy the array to protect its data or make it writable before converting it to a tensor. This type of warning will be suppressed for the rest of this program. (Triggered internally at /Users/runner/work/pytorch/pytorch/pytorch/torch/csrc/utils/tensor_numpy.cpp:212.)\n",
      "  ds = TensorDataset(torch.from_numpy(Xa), torch.from_numpy(Ya))\n"
     ]
    }
   ],
   "source": [
    "# Simple linear projection head\n",
    "result_linear_projection = run_baseline(model_name=\"ridge\", fold_id=0, horizon=\"target_h1\")\n",
    "\n",
    "# LSTM (32-step window)\n",
    "result_lstm = run_baseline(model_name=\"lstm\", fold_id=0, horizon=\"target_h1\")\n",
    "\n",
    "# Transformer (causal)\n",
    "result_tf = run_baseline(model_name=\"transformer\", fold_id=0, horizon=\"target_h1\")\n",
    "\n",
    "# Temporal ConvNet\n",
    "result_tcn = run_baseline(model_name=\"tcn\", fold_id=0, horizon=\"target_h1\")"
   ]
  },
  {
   "cell_type": "code",
   "execution_count": 8,
   "id": "f6c3d836-0cd7-461f-9f7a-13645a0c0004",
   "metadata": {},
   "outputs": [
    {
     "name": "stdout",
     "output_type": "stream",
     "text": [
      "{'model': 'esn', 'fold': 0, 'horizon': 'target_h1', 'rmse': 0.010097866116891986, 'mae': 0.007851897859174964, 'r2': -0.4753781004994253, 'dir_acc': 0.5277777777777778, 'backtest': {'avg_daily_pnl': 0.000840630933736941, 'vol': 0.00827769615774013, 'sharpe': 1.612, 'hit_ratio': 0.528, 'turnover': 0.853}}\n",
      "{'model': 'ridge', 'fold': 0, 'horizon': 'target_h1', 'rmse': 0.008334989760116741, 'mae': 0.005988647394107663, 'r2': -0.0052041142517864625, 'dir_acc': 0.49206349206349204, 'backtest': {'avg_daily_pnl': 7.716786655492856e-05, 'vol': 0.008323154583849718, 'sharpe': 0.147, 'hit_ratio': 0.492, 'turnover': 0.687}}\n",
      "{'model': 'lstm', 'fold': 0, 'horizon': 'target_h1', 'rmse': 0.009392311966999916, 'mae': 0.0070250805692818824, 'r2': -0.27640687530345653, 'dir_acc': 0.5079365079365079, 'backtest': {'avg_daily_pnl': 0.00020755933712792392, 'vol': 0.008324637541240517, 'sharpe': 0.396, 'hit_ratio': 0.508, 'turnover': 0.337}}\n",
      "{'model': 'transformer', 'fold': 0, 'horizon': 'target_h1', 'rmse': 0.01436647708595718, 'mae': 0.011092408137913738, 'r2': -1.9863773651703385, 'dir_acc': 0.4801587301587302, 'backtest': {'avg_daily_pnl': -0.0001271714017816098, 'vol': 0.008332486173327007, 'sharpe': -0.242, 'hit_ratio': 0.48, 'turnover': 0.456}}\n",
      "{'model': 'tcn', 'fold': 0, 'horizon': 'target_h1', 'rmse': 0.02856582264114301, 'mae': 0.019332879359990663, 'r2': -10.806946275460719, 'dir_acc': 0.5515873015873016, 'backtest': {'avg_daily_pnl': 0.00043271224656116436, 'vol': 0.008313077681158226, 'sharpe': 0.826, 'hit_ratio': 0.552, 'turnover': 0.631}}\n"
     ]
    }
   ],
   "source": [
    "print(result_esn)\n",
    "print(result_linear_projection)\n",
    "print(result_lstm) \n",
    "print(result_tf)\n",
    "print(result_tcn)"
   ]
  },
  {
   "cell_type": "code",
   "execution_count": 10,
   "id": "766a8a5b-5e30-480d-9c0a-b67f0bc5de39",
   "metadata": {},
   "outputs": [
    {
     "data": {
      "text/html": [
       "<div>\n",
       "<style scoped>\n",
       "    .dataframe tbody tr th:only-of-type {\n",
       "        vertical-align: middle;\n",
       "    }\n",
       "\n",
       "    .dataframe tbody tr th {\n",
       "        vertical-align: top;\n",
       "    }\n",
       "\n",
       "    .dataframe thead th {\n",
       "        text-align: right;\n",
       "    }\n",
       "</style>\n",
       "<table border=\"1\" class=\"dataframe\">\n",
       "  <thead>\n",
       "    <tr style=\"text-align: right;\">\n",
       "      <th></th>\n",
       "      <th>model</th>\n",
       "      <th>fold</th>\n",
       "      <th>horizon</th>\n",
       "      <th>rmse</th>\n",
       "      <th>mae</th>\n",
       "      <th>r2</th>\n",
       "      <th>dir_acc</th>\n",
       "      <th>avg_daily_pnl</th>\n",
       "      <th>vol</th>\n",
       "      <th>sharpe</th>\n",
       "      <th>hit_ratio</th>\n",
       "      <th>turnover</th>\n",
       "    </tr>\n",
       "  </thead>\n",
       "  <tbody>\n",
       "    <tr>\n",
       "      <th>0</th>\n",
       "      <td>ridge</td>\n",
       "      <td>0</td>\n",
       "      <td>target_h1</td>\n",
       "      <td>0.008335</td>\n",
       "      <td>0.005989</td>\n",
       "      <td>-0.005204</td>\n",
       "      <td>0.492063</td>\n",
       "      <td>0.000077</td>\n",
       "      <td>0.008323</td>\n",
       "      <td>0.147</td>\n",
       "      <td>0.492</td>\n",
       "      <td>0.687</td>\n",
       "    </tr>\n",
       "    <tr>\n",
       "      <th>1</th>\n",
       "      <td>lstm</td>\n",
       "      <td>0</td>\n",
       "      <td>target_h1</td>\n",
       "      <td>0.009392</td>\n",
       "      <td>0.007025</td>\n",
       "      <td>-0.276407</td>\n",
       "      <td>0.507937</td>\n",
       "      <td>0.000208</td>\n",
       "      <td>0.008325</td>\n",
       "      <td>0.396</td>\n",
       "      <td>0.508</td>\n",
       "      <td>0.337</td>\n",
       "    </tr>\n",
       "    <tr>\n",
       "      <th>2</th>\n",
       "      <td>esn</td>\n",
       "      <td>0</td>\n",
       "      <td>target_h1</td>\n",
       "      <td>0.010098</td>\n",
       "      <td>0.007852</td>\n",
       "      <td>-0.475378</td>\n",
       "      <td>0.527778</td>\n",
       "      <td>0.000841</td>\n",
       "      <td>0.008278</td>\n",
       "      <td>1.612</td>\n",
       "      <td>0.528</td>\n",
       "      <td>0.853</td>\n",
       "    </tr>\n",
       "    <tr>\n",
       "      <th>3</th>\n",
       "      <td>transformer</td>\n",
       "      <td>0</td>\n",
       "      <td>target_h1</td>\n",
       "      <td>0.014366</td>\n",
       "      <td>0.011092</td>\n",
       "      <td>-1.986377</td>\n",
       "      <td>0.480159</td>\n",
       "      <td>-0.000127</td>\n",
       "      <td>0.008332</td>\n",
       "      <td>-0.242</td>\n",
       "      <td>0.480</td>\n",
       "      <td>0.456</td>\n",
       "    </tr>\n",
       "    <tr>\n",
       "      <th>4</th>\n",
       "      <td>tcn</td>\n",
       "      <td>0</td>\n",
       "      <td>target_h1</td>\n",
       "      <td>0.028566</td>\n",
       "      <td>0.019333</td>\n",
       "      <td>-10.806946</td>\n",
       "      <td>0.551587</td>\n",
       "      <td>0.000433</td>\n",
       "      <td>0.008313</td>\n",
       "      <td>0.826</td>\n",
       "      <td>0.552</td>\n",
       "      <td>0.631</td>\n",
       "    </tr>\n",
       "  </tbody>\n",
       "</table>\n",
       "</div>"
      ],
      "text/plain": [
       "         model  fold    horizon      rmse       mae         r2   dir_acc  \\\n",
       "0        ridge     0  target_h1  0.008335  0.005989  -0.005204  0.492063   \n",
       "1         lstm     0  target_h1  0.009392  0.007025  -0.276407  0.507937   \n",
       "2          esn     0  target_h1  0.010098  0.007852  -0.475378  0.527778   \n",
       "3  transformer     0  target_h1  0.014366  0.011092  -1.986377  0.480159   \n",
       "4          tcn     0  target_h1  0.028566  0.019333 -10.806946  0.551587   \n",
       "\n",
       "   avg_daily_pnl       vol  sharpe  hit_ratio  turnover  \n",
       "0       0.000077  0.008323   0.147      0.492     0.687  \n",
       "1       0.000208  0.008325   0.396      0.508     0.337  \n",
       "2       0.000841  0.008278   1.612      0.528     0.853  \n",
       "3      -0.000127  0.008332  -0.242      0.480     0.456  \n",
       "4       0.000433  0.008313   0.826      0.552     0.631  "
      ]
     },
     "metadata": {},
     "output_type": "display_data"
    },
    {
     "data": {
      "image/png": "[encoded data removed]",
      "text/plain": [
       "<Figure size 800x400 with 1 Axes>"
      ]
     },
     "metadata": {},
     "output_type": "display_data"
    },
    {
     "data": {
      "image/png": "[encoded data removed]",
      "text/plain": [
       "<Figure size 800x400 with 1 Axes>"
      ]
     },
     "metadata": {},
     "output_type": "display_data"
    },
    {
     "data": {
      "image/png": "[encoded data removed]",
      "text/plain": [
       "<Figure size 800x400 with 1 Axes>"
      ]
     },
     "metadata": {},
     "output_type": "display_data"
    },
    {
     "data": {
      "image/png": "[encoded data removed]",
      "text/plain": [
       "<Figure size 800x400 with 1 Axes>"
      ]
     },
     "metadata": {},
     "output_type": "display_data"
    }
   ],
   "source": [
    "models = [\"ridge\", \"esn\", \"lstm\", \"transformer\", \"tcn\"]  # must match registry keys\n",
    "fold_id = 0\n",
    "horizon = \"target_h1\"\n",
    "\n",
    "dfm = collect_metrics(models, fold_id, horizon)\n",
    "display(dfm)  # table\n",
    "\n",
    "# Bar charts\n",
    "plot_metric_bars(dfm, metric=\"rmse\", title=f\"RMSE — fold {fold_id}, {horizon}\")\n",
    "plot_metric_bars(dfm, metric=\"mae\",  title=f\"MAE  — fold {fold_id}, {horizon}\")\n",
    "plot_metric_bars(dfm, metric=\"dir_acc\", title=f\"Directional Accuracy — fold {fold_id}, {horizon}\")\n",
    "plot_metric_bars(dfm, metric=\"sharpe\", title=f\"Sharpe (sign backtest) — fold {fold_id}, {horizon}\")"
   ]
  },
  {
   "cell_type": "code",
   "execution_count": null,
   "id": "64676390-9d76-4c19-9fc2-21921ea7a0c1",
   "metadata": {},
   "outputs": [],
   "source": []
  },
  {
   "cell_type": "code",
   "execution_count": null,
   "id": "5a25099d-a0ab-46c1-b64e-ec67f869a772",
   "metadata": {},
   "outputs": [],
   "source": []
  },
  {
   "cell_type": "markdown",
   "id": "822cc617-d9ef-494e-b8b7-82c543f5c559",
   "metadata": {},
   "source": [
    "# Tests on longer horizons"
   ]
  },
  {
   "cell_type": "code",
   "execution_count": 7,
   "id": "4acbfdc5-fd62-4ab3-b150-26ef51d3159c",
   "metadata": {},
   "outputs": [
    {
     "data": {
      "text/plain": [
       "{'model': 'ridge',\n",
       " 'fold': 0,\n",
       " 'horizon': 'target_h5',\n",
       " 'rmse': 0.018029446305257376,\n",
       " 'mae': 0.013631059340556263,\n",
       " 'r2': -0.05122991240156738,\n",
       " 'dir_acc': 0.44841269841269843,\n",
       " 'backtest': {'avg_daily_pnl': -0.002098181846105881,\n",
       "  'vol': 0.017626862432496188,\n",
       "  'sharpe': -1.89,\n",
       "  'hit_ratio': 0.448,\n",
       "  'turnover': 0.425}}"
      ]
     },
     "execution_count": 7,
     "metadata": {},
     "output_type": "execute_result"
    }
   ],
   "source": [
    "result_h5 = run_baseline(model_name=\"ridge\", fold_id=0, horizon=\"target_h5\")\n",
    "result_h5"
   ]
  },
  {
   "cell_type": "code",
   "execution_count": 8,
   "id": "7d59f381-7258-4b94-814b-2214afa3ef1c",
   "metadata": {},
   "outputs": [
    {
     "data": {
      "text/plain": [
       "{'model': 'ridge',\n",
       " 'fold': 0,\n",
       " 'horizon': 'target_h20',\n",
       " 'rmse': 0.033855047552795926,\n",
       " 'mae': 0.026869790311605878,\n",
       " 'r2': -0.23131916868042324,\n",
       " 'dir_acc': 0.4365079365079365,\n",
       " 'backtest': {'avg_daily_pnl': -0.004383155235672191,\n",
       "  'vol': 0.03261528428941353,\n",
       "  'sharpe': -2.133,\n",
       "  'hit_ratio': 0.437,\n",
       "  'turnover': 0.425}}"
      ]
     },
     "execution_count": 8,
     "metadata": {},
     "output_type": "execute_result"
    }
   ],
   "source": [
    "result_h20 = run_baseline(model_name=\"ridge\", fold_id=0, horizon=\"target_h20\")\n",
    "result_h20"
   ]
  },
  {
   "cell_type": "code",
   "execution_count": null,
   "id": "1a55db21-5a95-48c3-b2b3-48c4032796fa",
   "metadata": {},
   "outputs": [],
   "source": []
  }
 ],
 "metadata": {
  "kernelspec": {
   "display_name": "Python 3 (ipykernel)",
   "language": "python",
   "name": "python3"
  },
  "language_info": {
   "codemirror_mode": {
    "name": "ipython",
    "version": 3
   },
   "file_extension": ".py",
   "mimetype": "text/x-python",
   "name": "python",
   "nbconvert_exporter": "python",
   "pygments_lexer": "ipython3",
   "version": "3.13.5"
  }
 },
 "nbformat": 4,
 "nbformat_minor": 5
}
